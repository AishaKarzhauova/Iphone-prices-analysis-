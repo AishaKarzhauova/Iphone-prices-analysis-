{
 "nbformat": 4,
 "nbformat_minor": 0,
 "metadata": {
  "colab": {
   "provenance": []
  },
  "kernelspec": {
   "name": "python3",
   "language": "python",
   "display_name": "Python 3 (ipykernel)"
  },
  "language_info": {
   "name": "python"
  }
 },
 "cells": [
  {
   "cell_type": "code",
   "source": [
    "import pandas as pd\n",
    "from sklearn.model_selection import train_test_split\n",
    "from sklearn.linear_model import LogisticRegression\n",
    "from sklearn.tree import DecisionTreeClassifier\n",
    "from sklearn.ensemble import RandomForestClassifier, GradientBoostingClassifier\n",
    "from sklearn.metrics import accuracy_score\n",
    "from sklearn.preprocessing import OneHotEncoder\n",
    "from sklearn.neighbors import KNeighborsClassifier\n"
   ],
   "metadata": {
    "id": "ZQOXfw4ROYvx",
    "ExecuteTime": {
     "end_time": "2024-12-17T16:09:59.526288Z",
     "start_time": "2024-12-17T16:09:59.518241Z"
    }
   },
   "execution_count": 17,
   "outputs": []
  },
  {
   "cell_type": "code",
   "source": [
    "df = pd.read_csv(\"cleaned_olx_iphone.csv\")\n",
    "df[\"Date\"] = df[\"Date\"].astype(\"datetime64[ns]\")\n",
    "categorical_columns = ['Title', 'City', 'Date', 'District']\n",
    "df = pd.get_dummies(df, columns=categorical_columns)"
   ],
   "metadata": {
    "id": "w8lt8Gf8ObQk",
    "ExecuteTime": {
     "end_time": "2024-12-17T16:09:59.600975Z",
     "start_time": "2024-12-17T16:09:59.540014Z"
    }
   },
   "execution_count": 18,
   "outputs": []
  },
  {
   "cell_type": "code",
   "execution_count": 18,
   "outputs": [],
   "source": [],
   "metadata": {
    "collapsed": false,
    "ExecuteTime": {
     "end_time": "2024-12-17T16:09:59.601651Z",
     "start_time": "2024-12-17T16:09:59.595594Z"
    }
   }
  },
  {
   "cell_type": "code",
   "source": [
    "\n",
    "X = df.drop(\"Bargain\", axis=1)\n",
    "y = df[\"Bargain\"]\n",
    "\n",
    "X_train, X_test, y_train, y_test = train_test_split(X, y, test_size=0.2, random_state=42)\n"
   ],
   "metadata": {
    "id": "MLzL3bDqOeUw",
    "ExecuteTime": {
     "end_time": "2024-12-17T16:09:59.613515Z",
     "start_time": "2024-12-17T16:09:59.604244Z"
    }
   },
   "execution_count": 19,
   "outputs": []
  },
  {
   "cell_type": "markdown",
   "source": [],
   "metadata": {
    "id": "DXXlJCDvpRHc"
   }
  },
  {
   "cell_type": "code",
   "source": [
    "\n",
    "lr_model = LogisticRegression(max_iter=1000)\n",
    "lr_model.fit(X_train, y_train)\n",
    "lr_predictions = lr_model.predict(X_test)\n",
    "lr_accuracy = accuracy_score(y_test, lr_predictions)\n",
    "print(\"Logistic Regression Accuracy:\", lr_accuracy)\n",
    "\n",
    "dt_model = DecisionTreeClassifier()\n",
    "dt_model.fit(X_train, y_train)\n",
    "dt_predictions = dt_model.predict(X_test)\n",
    "dt_accuracy = accuracy_score(y_test, dt_predictions)\n",
    "print(\"Decision Tree Accuracy:\", dt_accuracy)\n",
    "\n",
    "rf_model = RandomForestClassifier()\n",
    "rf_model.fit(X_train, y_train)\n",
    "rf_predictions = rf_model.predict(X_test)\n",
    "rf_accuracy = accuracy_score(y_test, rf_predictions)\n",
    "print(\"Random Forest Accuracy:\", rf_accuracy)\n",
    "\n",
    "gb_model = GradientBoostingClassifier()\n",
    "gb_model.fit(X_train, y_train)\n",
    "gb_predictions = gb_model.predict(X_test)\n",
    "gb_accuracy = accuracy_score(y_test, gb_predictions)\n",
    "print(\"Gradient Boosting Accuracy:\", gb_accuracy)\n",
    "\n",
    "\n",
    "knn_model = KNeighborsClassifier()\n",
    "knn_model.fit(X_train, y_train)\n",
    "knn_predictions = knn_model.predict(X_test)\n",
    "knn_accuracy = accuracy_score(y_test, knn_predictions)\n",
    "print(\"k-Nearest Neighbors Accuracy:\", knn_accuracy)"
   ],
   "metadata": {
    "colab": {
     "base_uri": "https://localhost:8080/"
    },
    "id": "YWigxk4ROhjd",
    "outputId": "402e260c-332a-45db-cf40-4ee33d5ec355",
    "ExecuteTime": {
     "end_time": "2024-12-17T16:10:00.325753Z",
     "start_time": "2024-12-17T16:09:59.616258Z"
    }
   },
   "execution_count": 20,
   "outputs": [
    {
     "name": "stdout",
     "output_type": "stream",
     "text": [
      "Logistic Regression Accuracy: 0.7764705882352941\n",
      "Decision Tree Accuracy: 0.6823529411764706\n",
      "Random Forest Accuracy: 0.7764705882352941\n",
      "Gradient Boosting Accuracy: 0.7647058823529411\n",
      "k-Nearest Neighbors Accuracy: 0.7647058823529411\n"
     ]
    }
   ]
  },
  {
   "cell_type": "markdown",
   "source": [],
   "metadata": {
    "id": "OsakNnamOYja"
   }
  }
 ]
}
