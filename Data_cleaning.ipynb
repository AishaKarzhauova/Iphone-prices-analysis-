{
 "cells": [
  {
   "cell_type": "code",
   "execution_count": 37,
   "id": "initial_id",
   "metadata": {
    "collapsed": true,
    "ExecuteTime": {
     "end_time": "2024-12-17T15:45:01.226526Z",
     "start_time": "2024-12-17T15:45:01.165160Z"
    }
   },
   "outputs": [],
   "source": [
    "import pandas as pd\n",
    "import re"
   ]
  },
  {
   "cell_type": "code",
   "execution_count": 38,
   "outputs": [
    {
     "name": "stdout",
     "output_type": "stream",
     "text": [
      "<class 'pandas.core.frame.DataFrame'>\n",
      "RangeIndex: 1296 entries, 0 to 1295\n",
      "Data columns (total 6 columns):\n",
      " #   Column    Non-Null Count  Dtype         \n",
      "---  ------    --------------  -----         \n",
      " 0   Title     1296 non-null   object        \n",
      " 1   Price     1296 non-null   float64       \n",
      " 2   City      1296 non-null   object        \n",
      " 3   Bargain   1296 non-null   bool          \n",
      " 4   Date      1296 non-null   datetime64[ns]\n",
      " 5   District  852 non-null    object        \n",
      "dtypes: bool(1), datetime64[ns](1), float64(1), object(3)\n",
      "memory usage: 52.0+ KB\n",
      "None\n"
     ]
    },
    {
     "data": {
      "text/plain": "                                         Title     Price              City  \\\n0                    Iphone 15 Pro XR Оригинал  114000.0            Алматы   \n1                         iphone 15 pro 256 gb  400000.0          Костанай   \n2     IPhone 13 128gb 84% в отличном состоянии  165000.0  Усть-Каменогорск   \n3                  Iphone 11 128gb с гарантией   35000.0            Актобе   \n4                  Iphone 11 128gb с гарантией   35000.0         Караганда   \n...                                        ...       ...               ...   \n1291                        iPhone XR 64 Apple  100000.0             Актау   \n1292         Iphone 14 pro purple 256 gb  jsnv  360000.0            Астана   \n1293                  Продам на метал Iphone 6   15000.0             Семей   \n1294     Телефон iPhone 14 pro max 128  gb 86%  325000.0            Астана   \n1295                        Продается iPhone 6   10000.0          Костанай   \n\n      Bargain       Date              District  \n0       False 2024-12-16     Алмалинский район  \n1        True 2024-12-15                   NaN  \n2       False 2024-12-16           45-я аптека  \n3       False 2024-12-17         микрорайон 11  \n4       False 2024-12-17  Казыбекбийский район  \n...       ...        ...                   ...  \n1291     True 2024-12-16                     1  \n1292    False 2024-12-17     Алматинский район  \n1293     True 2024-12-16                   NaN  \n1294    False 2024-12-17       Есильский район  \n1295    False 2024-12-09                   NaN  \n\n[1296 rows x 6 columns]",
      "text/html": "<div>\n<style scoped>\n    .dataframe tbody tr th:only-of-type {\n        vertical-align: middle;\n    }\n\n    .dataframe tbody tr th {\n        vertical-align: top;\n    }\n\n    .dataframe thead th {\n        text-align: right;\n    }\n</style>\n<table border=\"1\" class=\"dataframe\">\n  <thead>\n    <tr style=\"text-align: right;\">\n      <th></th>\n      <th>Title</th>\n      <th>Price</th>\n      <th>City</th>\n      <th>Bargain</th>\n      <th>Date</th>\n      <th>District</th>\n    </tr>\n  </thead>\n  <tbody>\n    <tr>\n      <th>0</th>\n      <td>Iphone 15 Pro XR Оригинал</td>\n      <td>114000.0</td>\n      <td>Алматы</td>\n      <td>False</td>\n      <td>2024-12-16</td>\n      <td>Алмалинский район</td>\n    </tr>\n    <tr>\n      <th>1</th>\n      <td>iphone 15 pro 256 gb</td>\n      <td>400000.0</td>\n      <td>Костанай</td>\n      <td>True</td>\n      <td>2024-12-15</td>\n      <td>NaN</td>\n    </tr>\n    <tr>\n      <th>2</th>\n      <td>IPhone 13 128gb 84% в отличном состоянии</td>\n      <td>165000.0</td>\n      <td>Усть-Каменогорск</td>\n      <td>False</td>\n      <td>2024-12-16</td>\n      <td>45-я аптека</td>\n    </tr>\n    <tr>\n      <th>3</th>\n      <td>Iphone 11 128gb с гарантией</td>\n      <td>35000.0</td>\n      <td>Актобе</td>\n      <td>False</td>\n      <td>2024-12-17</td>\n      <td>микрорайон 11</td>\n    </tr>\n    <tr>\n      <th>4</th>\n      <td>Iphone 11 128gb с гарантией</td>\n      <td>35000.0</td>\n      <td>Караганда</td>\n      <td>False</td>\n      <td>2024-12-17</td>\n      <td>Казыбекбийский район</td>\n    </tr>\n    <tr>\n      <th>...</th>\n      <td>...</td>\n      <td>...</td>\n      <td>...</td>\n      <td>...</td>\n      <td>...</td>\n      <td>...</td>\n    </tr>\n    <tr>\n      <th>1291</th>\n      <td>iPhone XR 64 Apple</td>\n      <td>100000.0</td>\n      <td>Актау</td>\n      <td>True</td>\n      <td>2024-12-16</td>\n      <td>1</td>\n    </tr>\n    <tr>\n      <th>1292</th>\n      <td>Iphone 14 pro purple 256 gb  jsnv</td>\n      <td>360000.0</td>\n      <td>Астана</td>\n      <td>False</td>\n      <td>2024-12-17</td>\n      <td>Алматинский район</td>\n    </tr>\n    <tr>\n      <th>1293</th>\n      <td>Продам на метал Iphone 6</td>\n      <td>15000.0</td>\n      <td>Семей</td>\n      <td>True</td>\n      <td>2024-12-16</td>\n      <td>NaN</td>\n    </tr>\n    <tr>\n      <th>1294</th>\n      <td>Телефон iPhone 14 pro max 128  gb 86%</td>\n      <td>325000.0</td>\n      <td>Астана</td>\n      <td>False</td>\n      <td>2024-12-17</td>\n      <td>Есильский район</td>\n    </tr>\n    <tr>\n      <th>1295</th>\n      <td>Продается iPhone 6</td>\n      <td>10000.0</td>\n      <td>Костанай</td>\n      <td>False</td>\n      <td>2024-12-09</td>\n      <td>NaN</td>\n    </tr>\n  </tbody>\n</table>\n<p>1296 rows × 6 columns</p>\n</div>"
     },
     "execution_count": 38,
     "metadata": {},
     "output_type": "execute_result"
    }
   ],
   "source": [
    "df = pd.read_csv(\"olx_iphone2.csv\")\n",
    "df[\"Date\"] = pd.to_datetime(df[\"Date\"], errors='coerce')\n",
    "print(df.info())\n",
    "df"
   ],
   "metadata": {
    "collapsed": false,
    "ExecuteTime": {
     "end_time": "2024-12-17T15:45:01.308782Z",
     "start_time": "2024-12-17T15:45:01.176175Z"
    }
   },
   "id": "4c9f7d8b75f6a098"
  },
  {
   "cell_type": "code",
   "execution_count": 39,
   "outputs": [
    {
     "data": {
      "text/plain": "                                                 Title  Price  \\\n834                               Iphone 12 pro 128 gb    0.0   \n276  Ремонт сотовых телефонов Астана на выезд/ Sams...    0.0   \n986                                  iphone 14 Pro Max    0.0   \n578  Ремонт телефонов Iphone Samsung Lg Oppo Meziu ...    0.0   \n278  Ремонт телефонов Iphone,Samsung,Meizu,Huawei,L...    0.0   \n387  Ремонт телефонов , планшетов , apple iphone , ...    0.0   \n852  Деньги за iphone, ноутбук, смартфон, инструмен...    0.0   \n179                                         Iphone 12.    0.0   \n588                                  Iphone 13 идеал .    0.0   \n339  Ремонт телефонов, Дисплеи, Стекло, Iphone Xiao...    0.0   \n\n                  City  Bargain       Date             District  \n834  им.Балуана Шолака    False 2024-12-17                  NaN  \n276             Астана    False 2024-12-17  Сарыаркинский район  \n986             Астана    False 2024-12-17      Есильский район  \n578             Актобе    False 2024-12-17         Старый город  \n278             Актобе    False 2024-12-17         Старый город  \n387           Кокшетау    False 2024-11-28        Первая аптека  \n852           Костанай    False 2024-12-17                  NaN  \n179             Астана    False 2024-11-25  Сарыаркинский район  \n588              Актау    False 2024-12-17                    1  \n339             Алматы    False 2024-12-16     Ауэзовский район  ",
      "text/html": "<div>\n<style scoped>\n    .dataframe tbody tr th:only-of-type {\n        vertical-align: middle;\n    }\n\n    .dataframe tbody tr th {\n        vertical-align: top;\n    }\n\n    .dataframe thead th {\n        text-align: right;\n    }\n</style>\n<table border=\"1\" class=\"dataframe\">\n  <thead>\n    <tr style=\"text-align: right;\">\n      <th></th>\n      <th>Title</th>\n      <th>Price</th>\n      <th>City</th>\n      <th>Bargain</th>\n      <th>Date</th>\n      <th>District</th>\n    </tr>\n  </thead>\n  <tbody>\n    <tr>\n      <th>834</th>\n      <td>Iphone 12 pro 128 gb</td>\n      <td>0.0</td>\n      <td>им.Балуана Шолака</td>\n      <td>False</td>\n      <td>2024-12-17</td>\n      <td>NaN</td>\n    </tr>\n    <tr>\n      <th>276</th>\n      <td>Ремонт сотовых телефонов Астана на выезд/ Sams...</td>\n      <td>0.0</td>\n      <td>Астана</td>\n      <td>False</td>\n      <td>2024-12-17</td>\n      <td>Сарыаркинский район</td>\n    </tr>\n    <tr>\n      <th>986</th>\n      <td>iphone 14 Pro Max</td>\n      <td>0.0</td>\n      <td>Астана</td>\n      <td>False</td>\n      <td>2024-12-17</td>\n      <td>Есильский район</td>\n    </tr>\n    <tr>\n      <th>578</th>\n      <td>Ремонт телефонов Iphone Samsung Lg Oppo Meziu ...</td>\n      <td>0.0</td>\n      <td>Актобе</td>\n      <td>False</td>\n      <td>2024-12-17</td>\n      <td>Старый город</td>\n    </tr>\n    <tr>\n      <th>278</th>\n      <td>Ремонт телефонов Iphone,Samsung,Meizu,Huawei,L...</td>\n      <td>0.0</td>\n      <td>Актобе</td>\n      <td>False</td>\n      <td>2024-12-17</td>\n      <td>Старый город</td>\n    </tr>\n    <tr>\n      <th>387</th>\n      <td>Ремонт телефонов , планшетов , apple iphone , ...</td>\n      <td>0.0</td>\n      <td>Кокшетау</td>\n      <td>False</td>\n      <td>2024-11-28</td>\n      <td>Первая аптека</td>\n    </tr>\n    <tr>\n      <th>852</th>\n      <td>Деньги за iphone, ноутбук, смартфон, инструмен...</td>\n      <td>0.0</td>\n      <td>Костанай</td>\n      <td>False</td>\n      <td>2024-12-17</td>\n      <td>NaN</td>\n    </tr>\n    <tr>\n      <th>179</th>\n      <td>Iphone 12.</td>\n      <td>0.0</td>\n      <td>Астана</td>\n      <td>False</td>\n      <td>2024-11-25</td>\n      <td>Сарыаркинский район</td>\n    </tr>\n    <tr>\n      <th>588</th>\n      <td>Iphone 13 идеал .</td>\n      <td>0.0</td>\n      <td>Актау</td>\n      <td>False</td>\n      <td>2024-12-17</td>\n      <td>1</td>\n    </tr>\n    <tr>\n      <th>339</th>\n      <td>Ремонт телефонов, Дисплеи, Стекло, Iphone Xiao...</td>\n      <td>0.0</td>\n      <td>Алматы</td>\n      <td>False</td>\n      <td>2024-12-16</td>\n      <td>Ауэзовский район</td>\n    </tr>\n  </tbody>\n</table>\n</div>"
     },
     "execution_count": 39,
     "metadata": {},
     "output_type": "execute_result"
    }
   ],
   "source": [
    "df.sort_values([\"Price\"]).head(10)"
   ],
   "metadata": {
    "collapsed": false,
    "ExecuteTime": {
     "end_time": "2024-12-17T15:45:01.331643Z",
     "start_time": "2024-12-17T15:45:01.313145Z"
    }
   },
   "id": "7b1eb7c02fd277a9"
  },
  {
   "cell_type": "code",
   "execution_count": 40,
   "outputs": [],
   "source": [
    "def clean_title(title):\n",
    "    match = re.search(r'iPhone\\s\\d{1,2}(?:\\sPro\\sMax|\\sPro)?\\s\\d+(?:GB|gb|TB|tb)?', title, re.IGNORECASE)\n",
    "    return match.group(0) if match else None"
   ],
   "metadata": {
    "collapsed": false,
    "ExecuteTime": {
     "end_time": "2024-12-17T15:45:01.331976Z",
     "start_time": "2024-12-17T15:45:01.328018Z"
    }
   },
   "id": "6ca7d9f8063e2486"
  },
  {
   "cell_type": "code",
   "execution_count": 41,
   "outputs": [],
   "source": [
    "df['Title'] = df['Title'].apply(clean_title)"
   ],
   "metadata": {
    "collapsed": false,
    "ExecuteTime": {
     "end_time": "2024-12-17T15:45:01.356089Z",
     "start_time": "2024-12-17T15:45:01.337917Z"
    }
   },
   "id": "4ad281dce55e39ef"
  },
  {
   "cell_type": "code",
   "execution_count": 42,
   "outputs": [],
   "source": [
    "df_cleaned = df[df['Title'].notnull()]"
   ],
   "metadata": {
    "collapsed": false,
    "ExecuteTime": {
     "end_time": "2024-12-17T15:45:01.384053Z",
     "start_time": "2024-12-17T15:45:01.344367Z"
    }
   },
   "id": "2d2b4b407e92d200"
  },
  {
   "cell_type": "code",
   "execution_count": 43,
   "outputs": [
    {
     "data": {
      "text/plain": "               Title     Price              City  Bargain       Date  \\\n1  iphone 15 pro 256  400000.0          Костанай     True 2024-12-15   \n2    IPhone 13 128gb  165000.0  Усть-Каменогорск    False 2024-12-16   \n3    Iphone 11 128gb   35000.0            Актобе    False 2024-12-17   \n4    Iphone 11 128gb   35000.0         Караганда    False 2024-12-17   \n5  Iphone 14 Pro 256  102000.0             Тараз    False 2024-12-17   \n\n               District  \n1                   NaN  \n2           45-я аптека  \n3         микрорайон 11  \n4  Казыбекбийский район  \n5        1-мкр. Акбулак  ",
      "text/html": "<div>\n<style scoped>\n    .dataframe tbody tr th:only-of-type {\n        vertical-align: middle;\n    }\n\n    .dataframe tbody tr th {\n        vertical-align: top;\n    }\n\n    .dataframe thead th {\n        text-align: right;\n    }\n</style>\n<table border=\"1\" class=\"dataframe\">\n  <thead>\n    <tr style=\"text-align: right;\">\n      <th></th>\n      <th>Title</th>\n      <th>Price</th>\n      <th>City</th>\n      <th>Bargain</th>\n      <th>Date</th>\n      <th>District</th>\n    </tr>\n  </thead>\n  <tbody>\n    <tr>\n      <th>1</th>\n      <td>iphone 15 pro 256</td>\n      <td>400000.0</td>\n      <td>Костанай</td>\n      <td>True</td>\n      <td>2024-12-15</td>\n      <td>NaN</td>\n    </tr>\n    <tr>\n      <th>2</th>\n      <td>IPhone 13 128gb</td>\n      <td>165000.0</td>\n      <td>Усть-Каменогорск</td>\n      <td>False</td>\n      <td>2024-12-16</td>\n      <td>45-я аптека</td>\n    </tr>\n    <tr>\n      <th>3</th>\n      <td>Iphone 11 128gb</td>\n      <td>35000.0</td>\n      <td>Актобе</td>\n      <td>False</td>\n      <td>2024-12-17</td>\n      <td>микрорайон 11</td>\n    </tr>\n    <tr>\n      <th>4</th>\n      <td>Iphone 11 128gb</td>\n      <td>35000.0</td>\n      <td>Караганда</td>\n      <td>False</td>\n      <td>2024-12-17</td>\n      <td>Казыбекбийский район</td>\n    </tr>\n    <tr>\n      <th>5</th>\n      <td>Iphone 14 Pro 256</td>\n      <td>102000.0</td>\n      <td>Тараз</td>\n      <td>False</td>\n      <td>2024-12-17</td>\n      <td>1-мкр. Акбулак</td>\n    </tr>\n  </tbody>\n</table>\n</div>"
     },
     "execution_count": 43,
     "metadata": {},
     "output_type": "execute_result"
    }
   ],
   "source": [
    "df_cleaned.head()"
   ],
   "metadata": {
    "collapsed": false,
    "ExecuteTime": {
     "end_time": "2024-12-17T15:45:01.442917Z",
     "start_time": "2024-12-17T15:45:01.356390Z"
    }
   },
   "id": "8ef612ce0699ccbc"
  },
  {
   "cell_type": "code",
   "execution_count": 44,
   "outputs": [],
   "source": [
    "df_cleaned = df_cleaned.fillna({'Title': 'Unknown', 'Price': 0, 'City': 'Unknown', 'Bargain': False, 'Date': 'Unknown', 'District': 'Unknown'})"
   ],
   "metadata": {
    "collapsed": false,
    "ExecuteTime": {
     "end_time": "2024-12-17T15:45:01.443839Z",
     "start_time": "2024-12-17T15:45:01.360922Z"
    }
   },
   "id": "31a46cb290e00540"
  },
  {
   "cell_type": "code",
   "execution_count": 45,
   "outputs": [],
   "source": [
    "df_cleaned = df_cleaned.drop_duplicates()"
   ],
   "metadata": {
    "collapsed": false,
    "ExecuteTime": {
     "end_time": "2024-12-17T15:45:01.452325Z",
     "start_time": "2024-12-17T15:45:01.370551Z"
    }
   },
   "id": "cf8a51d83dc6a513"
  },
  {
   "cell_type": "code",
   "execution_count": 46,
   "outputs": [],
   "source": [
    "df_cleaned.to_csv('cleaned_olx_iphone.csv', index=False, encoding='utf-8-sig')"
   ],
   "metadata": {
    "collapsed": false,
    "ExecuteTime": {
     "end_time": "2024-12-17T15:45:01.483967Z",
     "start_time": "2024-12-17T15:45:01.375533Z"
    }
   },
   "id": "25d8b7b8e70d9e89"
  },
  {
   "cell_type": "code",
   "execution_count": 47,
   "outputs": [
    {
     "data": {
      "text/plain": "                  Title    Price               City  Bargain       Date  \\\n840       Iphone 11 128      0.0           Шахтинск    False 2024-12-17   \n1184      Iphone 11 128      0.0             Алматы    False 2024-12-17   \n423      iPhone 12 64gb      0.0             Алматы    False 2024-12-17   \n825   Iphone 12 pro 128      0.0  им.Балуана Шолака    False 2024-12-17   \n624     iPhone 14 128GB      0.0             Астана    False 2024-12-17   \n133       Iphone 11 256      0.0              Тараз    False 2024-12-17   \n84          iphone 7 32  17000.0            Шанырак    False 2024-12-17   \n511       iphone 6 32GB  18000.0             Сауран     True 2024-12-17   \n301       Iphone 7 32gb  25000.0             Нуркен    False 2024-12-17   \n1053        Iphone 7 32  30000.0             Астана    False 2024-12-17   \n\n                 District  \n840               Unknown  \n1184  Бостандыкский район  \n423      Ауэзовский район  \n825               Unknown  \n624       Есильский район  \n133        1-мкр. Акбулак  \n84                Unknown  \n511               Unknown  \n301               Unknown  \n1053    Алматинский район  ",
      "text/html": "<div>\n<style scoped>\n    .dataframe tbody tr th:only-of-type {\n        vertical-align: middle;\n    }\n\n    .dataframe tbody tr th {\n        vertical-align: top;\n    }\n\n    .dataframe thead th {\n        text-align: right;\n    }\n</style>\n<table border=\"1\" class=\"dataframe\">\n  <thead>\n    <tr style=\"text-align: right;\">\n      <th></th>\n      <th>Title</th>\n      <th>Price</th>\n      <th>City</th>\n      <th>Bargain</th>\n      <th>Date</th>\n      <th>District</th>\n    </tr>\n  </thead>\n  <tbody>\n    <tr>\n      <th>840</th>\n      <td>Iphone 11 128</td>\n      <td>0.0</td>\n      <td>Шахтинск</td>\n      <td>False</td>\n      <td>2024-12-17</td>\n      <td>Unknown</td>\n    </tr>\n    <tr>\n      <th>1184</th>\n      <td>Iphone 11 128</td>\n      <td>0.0</td>\n      <td>Алматы</td>\n      <td>False</td>\n      <td>2024-12-17</td>\n      <td>Бостандыкский район</td>\n    </tr>\n    <tr>\n      <th>423</th>\n      <td>iPhone 12 64gb</td>\n      <td>0.0</td>\n      <td>Алматы</td>\n      <td>False</td>\n      <td>2024-12-17</td>\n      <td>Ауэзовский район</td>\n    </tr>\n    <tr>\n      <th>825</th>\n      <td>Iphone 12 pro 128</td>\n      <td>0.0</td>\n      <td>им.Балуана Шолака</td>\n      <td>False</td>\n      <td>2024-12-17</td>\n      <td>Unknown</td>\n    </tr>\n    <tr>\n      <th>624</th>\n      <td>iPhone 14 128GB</td>\n      <td>0.0</td>\n      <td>Астана</td>\n      <td>False</td>\n      <td>2024-12-17</td>\n      <td>Есильский район</td>\n    </tr>\n    <tr>\n      <th>133</th>\n      <td>Iphone 11 256</td>\n      <td>0.0</td>\n      <td>Тараз</td>\n      <td>False</td>\n      <td>2024-12-17</td>\n      <td>1-мкр. Акбулак</td>\n    </tr>\n    <tr>\n      <th>84</th>\n      <td>iphone 7 32</td>\n      <td>17000.0</td>\n      <td>Шанырак</td>\n      <td>False</td>\n      <td>2024-12-17</td>\n      <td>Unknown</td>\n    </tr>\n    <tr>\n      <th>511</th>\n      <td>iphone 6 32GB</td>\n      <td>18000.0</td>\n      <td>Сауран</td>\n      <td>True</td>\n      <td>2024-12-17</td>\n      <td>Unknown</td>\n    </tr>\n    <tr>\n      <th>301</th>\n      <td>Iphone 7 32gb</td>\n      <td>25000.0</td>\n      <td>Нуркен</td>\n      <td>False</td>\n      <td>2024-12-17</td>\n      <td>Unknown</td>\n    </tr>\n    <tr>\n      <th>1053</th>\n      <td>Iphone 7 32</td>\n      <td>30000.0</td>\n      <td>Астана</td>\n      <td>False</td>\n      <td>2024-12-17</td>\n      <td>Алматинский район</td>\n    </tr>\n  </tbody>\n</table>\n</div>"
     },
     "execution_count": 47,
     "metadata": {},
     "output_type": "execute_result"
    }
   ],
   "source": [
    "df_cleaned.sort_values([\"Price\"]).head(10)"
   ],
   "metadata": {
    "collapsed": false,
    "ExecuteTime": {
     "end_time": "2024-12-17T15:45:01.519750Z",
     "start_time": "2024-12-17T15:45:01.386781Z"
    }
   },
   "id": "c6891bef09605ae0"
  },
  {
   "cell_type": "code",
   "execution_count": 48,
   "outputs": [
    {
     "name": "stdout",
     "output_type": "stream",
     "text": [
      "Total row count: 421\n",
      "NaN values count: Title       0\n",
      "Price       0\n",
      "City        0\n",
      "Bargain     0\n",
      "Date        0\n",
      "District    0\n",
      "dtype: int64\n",
      "Duplicate rows: 0\n"
     ]
    }
   ],
   "source": [
    "print(\"Total row count:\", len(df_cleaned))\n",
    "print(\"NaN values count:\", df_cleaned.isna().sum())\n",
    "print(\"Duplicate rows:\", df_cleaned[df_cleaned.duplicated()].shape[0])"
   ],
   "metadata": {
    "collapsed": false,
    "ExecuteTime": {
     "end_time": "2024-12-17T15:45:01.520240Z",
     "start_time": "2024-12-17T15:45:01.404449Z"
    }
   },
   "id": "8e4461a2adb8ec37"
  },
  {
   "cell_type": "code",
   "execution_count": 49,
   "outputs": [
    {
     "name": "stdout",
     "output_type": "stream",
     "text": [
      "Title               object\n",
      "Price              float64\n",
      "City                object\n",
      "Bargain               bool\n",
      "Date        datetime64[ns]\n",
      "District            object\n",
      "dtype: object\n"
     ]
    }
   ],
   "source": [
    "print(df_cleaned.dtypes)"
   ],
   "metadata": {
    "collapsed": false,
    "ExecuteTime": {
     "end_time": "2024-12-17T15:45:01.520460Z",
     "start_time": "2024-12-17T15:45:01.413853Z"
    }
   },
   "id": "93a5b341d93934a"
  },
  {
   "cell_type": "code",
   "execution_count": 49,
   "outputs": [],
   "source": [],
   "metadata": {
    "collapsed": false,
    "ExecuteTime": {
     "end_time": "2024-12-17T15:45:01.520774Z",
     "start_time": "2024-12-17T15:45:01.423503Z"
    }
   },
   "id": "7a821293b28bacf0"
  }
 ],
 "metadata": {
  "kernelspec": {
   "display_name": "Python 3",
   "language": "python",
   "name": "python3"
  },
  "language_info": {
   "codemirror_mode": {
    "name": "ipython",
    "version": 2
   },
   "file_extension": ".py",
   "mimetype": "text/x-python",
   "name": "python",
   "nbconvert_exporter": "python",
   "pygments_lexer": "ipython2",
   "version": "2.7.6"
  }
 },
 "nbformat": 4,
 "nbformat_minor": 5
}
