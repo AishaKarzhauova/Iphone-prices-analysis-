{
 "cells": [
  {
   "cell_type": "code",
   "execution_count": 2,
   "id": "initial_id",
   "metadata": {
    "collapsed": true,
    "ExecuteTime": {
     "end_time": "2024-12-09T16:45:21.918507Z",
     "start_time": "2024-12-09T16:45:19.611641Z"
    }
   },
   "outputs": [],
   "source": [
    "import pandas as pd"
   ]
  },
  {
   "cell_type": "markdown",
   "source": [],
   "metadata": {
    "collapsed": false
   },
   "id": "b4455a507fb1ac5d"
  },
  {
   "cell_type": "code",
   "execution_count": 3,
   "outputs": [
    {
     "data": {
      "text/plain": "                                               Title     Price  \\\n0  Оригинальный адаптер iPhone – гарантия 36 меся...    7000.0   \n1                               iPhone 16 Pro 128 gb  550000.0   \n2                              Iphone 13 128gb Black  180000.0   \n3      iPhone 13 pro 256 гб и наушники эпл в подарок  200000.0   \n4                                   Продам iphone 12   75000.0   \n\n                            City  Bargain        Date  \\\n0                         Алматы    False  2024-12-08   \n1                          Актау    False  2024-12-08   \n2                         Атырау     True  2024-12-08   \n3                         Алматы    False  2024-12-08   \n4  Заречное - 07 декабря 2024 г.    False  2024-12-07   \n\n                                District  \n0     Ауэзовский район - Сегодня в 06:38  \n1                    1 - Сегодня в 08:10  \n2             Авангард - Сегодня в 17:37  \n3  Бостандыкский район - Сегодня в 14:33  \n4                                    NaN  ",
      "text/html": "<div>\n<style scoped>\n    .dataframe tbody tr th:only-of-type {\n        vertical-align: middle;\n    }\n\n    .dataframe tbody tr th {\n        vertical-align: top;\n    }\n\n    .dataframe thead th {\n        text-align: right;\n    }\n</style>\n<table border=\"1\" class=\"dataframe\">\n  <thead>\n    <tr style=\"text-align: right;\">\n      <th></th>\n      <th>Title</th>\n      <th>Price</th>\n      <th>City</th>\n      <th>Bargain</th>\n      <th>Date</th>\n      <th>District</th>\n    </tr>\n  </thead>\n  <tbody>\n    <tr>\n      <th>0</th>\n      <td>Оригинальный адаптер iPhone – гарантия 36 меся...</td>\n      <td>7000.0</td>\n      <td>Алматы</td>\n      <td>False</td>\n      <td>2024-12-08</td>\n      <td>Ауэзовский район - Сегодня в 06:38</td>\n    </tr>\n    <tr>\n      <th>1</th>\n      <td>iPhone 16 Pro 128 gb</td>\n      <td>550000.0</td>\n      <td>Актау</td>\n      <td>False</td>\n      <td>2024-12-08</td>\n      <td>1 - Сегодня в 08:10</td>\n    </tr>\n    <tr>\n      <th>2</th>\n      <td>Iphone 13 128gb Black</td>\n      <td>180000.0</td>\n      <td>Атырау</td>\n      <td>True</td>\n      <td>2024-12-08</td>\n      <td>Авангард - Сегодня в 17:37</td>\n    </tr>\n    <tr>\n      <th>3</th>\n      <td>iPhone 13 pro 256 гб и наушники эпл в подарок</td>\n      <td>200000.0</td>\n      <td>Алматы</td>\n      <td>False</td>\n      <td>2024-12-08</td>\n      <td>Бостандыкский район - Сегодня в 14:33</td>\n    </tr>\n    <tr>\n      <th>4</th>\n      <td>Продам iphone 12</td>\n      <td>75000.0</td>\n      <td>Заречное - 07 декабря 2024 г.</td>\n      <td>False</td>\n      <td>2024-12-07</td>\n      <td>NaN</td>\n    </tr>\n  </tbody>\n</table>\n</div>"
     },
     "execution_count": 3,
     "metadata": {},
     "output_type": "execute_result"
    }
   ],
   "source": [
    "df = pd.read_csv(\"olx_iphone6.csv\")\n",
    "df.head()"
   ],
   "metadata": {
    "collapsed": false,
    "ExecuteTime": {
     "end_time": "2024-12-09T16:45:21.964797Z",
     "start_time": "2024-12-09T16:45:21.922453Z"
    }
   },
   "id": "3f2133666e8d6a78"
  },
  {
   "cell_type": "code",
   "execution_count": 3,
   "outputs": [],
   "source": [],
   "metadata": {
    "collapsed": false,
    "ExecuteTime": {
     "end_time": "2024-12-09T16:45:21.965142Z",
     "start_time": "2024-12-09T16:45:21.959690Z"
    }
   },
   "id": "5247a1b190d9c578"
  }
 ],
 "metadata": {
  "kernelspec": {
   "display_name": "Python 3",
   "language": "python",
   "name": "python3"
  },
  "language_info": {
   "codemirror_mode": {
    "name": "ipython",
    "version": 2
   },
   "file_extension": ".py",
   "mimetype": "text/x-python",
   "name": "python",
   "nbconvert_exporter": "python",
   "pygments_lexer": "ipython2",
   "version": "2.7.6"
  }
 },
 "nbformat": 4,
 "nbformat_minor": 5
}
